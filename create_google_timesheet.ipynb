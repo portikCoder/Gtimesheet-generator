{
 "cells": [
  {
   "cell_type": "code",
   "execution_count": 46,
   "metadata": {
    "pycharm": {
     "name": "#%%\n"
    }
   },
   "outputs": [],
   "source": [
    "# Script:\n",
    "# 1. Make a new GoogleSheet file\n",
    "# 2. Save a few values from previous Timesheet:\n",
    "#   - B (column) X (row): Accumulated yearly salary based on hrs only\n",
    "# 3. Generate a list of working days strictly within that month\n",
    "#    - goes into A1:An; where n is len(working_days)\n",
    "# 4. Fill in B1:Bn with default number: 8\n",
    "#    - add the already spread (equally, as possible) excess/missing working hrs\n",
    "# 5. Rename so it has the one it should (increment the invoice_id compared to the previous one)"
   ]
  },
  {
   "cell_type": "code",
   "execution_count": 101,
   "outputs": [],
   "source": [
    "import re\n",
    "import sys\n",
    "import traceback\n",
    "from datetime import date, timedelta, datetime\n",
    "from enum import Enum\n",
    "from typing import Optional, List, Union\n",
    "\n",
    "import gspread\n",
    "from dateutil.relativedelta import relativedelta"
   ],
   "metadata": {
    "collapsed": false,
    "pycharm": {
     "name": "#%%\n"
    }
   }
  },
  {
   "cell_type": "code",
   "execution_count": 104,
   "outputs": [],
   "source": [
    "# %config IPCompleter.use_jedi=False # Necessary only if it is being developed on self-hosted page\n",
    "class SpreadMode(Enum):\n",
    "    even = \"spread evenly\"\n",
    "    consider_week_numbers = \"squeeze within specific weeks\""
   ],
   "metadata": {
    "collapsed": false,
    "pycharm": {
     "name": "#%%\n"
    }
   }
  },
  {
   "cell_type": "code",
   "execution_count": 105,
   "outputs": [],
   "source": [
    "#                                                         #\n",
    "# Initial setup for every run, that needs to be included: #\n",
    "# # # # # # # # # # # # # # # # # # # # # # # # # # # # # #\n",
    "\n",
    "# if you leave `None`: generates for the last month (<=> current_month - 1)\n",
    "PREVIOUS_MONTH_AS_NUMBER: Optional[int] = 6  # if not None then should be between: [1..12]\n",
    "\n",
    "# Declare other items that need to be invoiced, such as food, electricity, bonus, etc...\n",
    "other_items = [\n",
    "    (\"Other(food)\", 100_000, \"EUR\"),\n",
    "    (\"Works above agreed volume\", 1_000_000, \"EUR\"),\n",
    "]  # (Name, value, unit)\n",
    "\n",
    "# Work in excess or in minus - (sur-)plus_hrs\n",
    "#  could be a sole number too, but if not, use TAB as separator (or change the separator below)\n",
    "# & if some of those are negative, can be interpreted as skipped hrs/workdays even\n",
    "excess_work_input: str = \"0\t8\t0\t17.5\t8.5\"  # for e.g. week 1st (only 1st of July) has 0 surplus, week 2nd (days of July 04.->08.) has 8hrs (1day), ..., week 5th (days of July 25.->29.) has 8.5hrs\n",
    "excess_work_input_separator: str = \"\\t\"\n",
    "# Choose in which mode you want to spread the excess/lost amount of hours across the working days\n",
    "SPREAD_MODE = SpreadMode.even"
   ],
   "metadata": {
    "collapsed": false,
    "pycharm": {
     "name": "#%%\n"
    }
   }
  },
  {
   "cell_type": "code",
   "execution_count": 50,
   "outputs": [],
   "source": [
    "#                                                                 #\n",
    "# Initial setup that doesn't change too much during series of run #\n",
    "# # # # # # # # # # # # # # # # # # # # # # # # # # # # # # # # # #\n",
    "FULL_UNDERSCORED_NAME = \"JONES_DOW\"\n",
    "\n",
    "INVOICE_ID_PREFIX = \"DOW\"  # it's usually a constant, e.g.: DOW0001\n",
    "\n",
    "SALARY_PER_HOUR = 150  # don't let anybody know\n",
    "#\n",
    "######\n",
    "#\n",
    "NUMBER_OF_WORKING_DAYS_PER_WEEK = 5\n",
    "MAX_NUMBER_OF_EXCESS_WORKING_HOURS_PER_DAY = 2"
   ],
   "metadata": {
    "collapsed": false,
    "pycharm": {
     "name": "#%%\n"
    }
   }
  },
  {
   "cell_type": "code",
   "execution_count": 108,
   "outputs": [],
   "source": [
    "def spread_excess_work_hrs(working_hrs_per_day: List[float], working_hrs_in_excess_or_loss: Union[int, List],\n",
    "                           spread_mode: SpreadMode, no_workingdays_per_week=5,\n",
    "                           max_no_workinghrs_per_day=2) -> List[float]:\n",
    "    if spread_mode == SpreadMode.even:\n",
    "        excess_to_be_rolled = sum(working_hrs_in_excess_or_loss)\n",
    "    elif spread_mode == SpreadMode.consider_week_numbers:\n",
    "        raise NotImplementedError(f\"No spread mode implementation for: {spread_mode}\")\n",
    "    else:\n",
    "        raise NotImplementedError(f\"No spread mode implementation for: {spread_mode}\")\n",
    "\n",
    "    for i, working_hrs in enumerate(working_hrs_per_day):\n",
    "        if 0.1 > excess_to_be_rolled >= 0:\n",
    "            break\n",
    "        if working_hrs < no_workingdays_per_week * max_no_workinghrs_per_day:\n",
    "            val = no_workingdays_per_week * max_no_workinghrs_per_day - working_hrs\n",
    "            working_hrs_per_day[i] += val\n",
    "            excess_to_be_rolled -= val if excess_to_be_rolled > 0 else -val\n",
    "\n",
    "    return working_hrs_per_day"
   ],
   "metadata": {
    "collapsed": false,
    "pycharm": {
     "name": "#%%\n"
    }
   }
  },
  {
   "cell_type": "code",
   "execution_count": 52,
   "outputs": [
    {
     "name": "stdout",
     "output_type": "stream",
     "text": [
      "Previous invoice ID: '6'\n"
     ]
    }
   ],
   "source": [
    "# Declare filename templates\n",
    "PREVIOUS_INVOICE_ID = PREVIOUS_MONTH_AS_NUMBER if PREVIOUS_MONTH_AS_NUMBER else (\n",
    "        datetime.now() - relativedelta(months=1)).month\n",
    "print(\"Previous invoice ID: '{}'\".format(PREVIOUS_INVOICE_ID))\n",
    "\n",
    "CURRENT_YEAR = datetime.now().year\n",
    "GET_INVOICE_FILENAME_TEMPLATE = lambda invoice_id, year, month: \"{}_invoice_{}{}_{}-{}\".format(FULL_UNDERSCORED_NAME,\n",
    "                                                                                               INVOICE_ID_PREFIX,\n",
    "                                                                                               invoice_id, year, month)\n",
    "\n",
    "MONTHLY_ACCUMULATED_HRS_CELL_VALUE = \"* Surplus (accumulated) hrs\"\n",
    "TOT_CELL_VALUE = \"TOT.\"\n",
    "YEARLY_PAID_WORKING_HRS_ONLY_CELL_VALUE = \"* Total/year(only paid working hrs.):\"\n",
    "\n",
    "GET_SUM_ACCUMULATED_BY_WORKINGHRS_ONLY = lambda sheet: sheet.cell(\n",
    "    sheet.find(YEARLY_PAID_WORKING_HRS_ONLY_CELL_VALUE).row, 2).value\n"
   ],
   "metadata": {
    "collapsed": false,
    "pycharm": {
     "name": "#%%\n"
    }
   }
  },
  {
   "cell_type": "code",
   "execution_count": 53,
   "metadata": {
    "pycharm": {
     "name": "#%%\n"
    }
   },
   "outputs": [],
   "source": [
    "gc = gspread.service_account()\n",
    "\n",
    "# Let's open the necessary (previous invoice) file\n",
    "all_g_spreadsheets = map(lambda x: x.title, gc.openall())\n",
    "\n",
    "prev_invoice_filename = next(\n",
    "    filter(lambda x: re.match(GET_INVOICE_FILENAME_TEMPLATE(*[\".*\"] * 2, PREVIOUS_INVOICE_ID), x), all_g_spreadsheets))\n",
    "prev_file = gc.open(prev_invoice_filename)\n",
    "prev_sheet = gc.open(prev_invoice_filename).sheet1\n",
    "\n",
    "\n",
    "def delete_g_spreadsheets():\n",
    "    \"\"\"Call the method, if you want to delete files on the Drive\"\"\"\n",
    "    all_g_spreadsheets = map(lambda x: x, gc.openall())\n",
    "    spreadsheet_files_to_delete = (\n",
    "        filter(lambda x: re.match(GET_INVOICE_FILENAME_TEMPLATE(*[\".*\"] * 2, 7), x.title), all_g_spreadsheets))\n",
    "    [gc.del_spreadsheet(x.id) for x in spreadsheet_files_to_delete]\n"
   ]
  },
  {
   "cell_type": "code",
   "execution_count": 54,
   "metadata": {
    "pycharm": {
     "name": "#%%\n"
    }
   },
   "outputs": [],
   "source": [
    "from typing import List, Union, Optional\n",
    "from dataclasses import dataclass\n",
    "\n",
    "\n",
    "@dataclass\n",
    "class WorkdayWorkedHrs:\n",
    "    dated_day: datetime\n",
    "    hrs_worked: int\n",
    "    row: int = 2\n",
    "\n",
    "    def to_excel_format(self) -> List[Union[str, int]]:\n",
    "        return [str(self.dated_day), self.hrs_worked]\n",
    "\n",
    "\n",
    "# NOTE: Do not configure padding as its dynamic padding is broken\n",
    "class Paddable:\n",
    "    \"\"\"Could possible have: `pad`, `pad_before`, `pad_after`\"\"\"\n",
    "\n",
    "    @staticmethod\n",
    "    def pad_values_if_possible(paddable_instance):\n",
    "        # TODO: Fix padding to be dynamic\n",
    "        result = []\n",
    "        if getattr(paddable_instance, \"pad_before\", None):\n",
    "            result += [*[[]] * paddable_instance.pad_before,\n",
    "                       [paddable_instance.name, paddable_instance.form, paddable_instance.unit]]\n",
    "        elif getattr(paddable_instance, \"pad\", None):\n",
    "            result += [*[[]] * paddable_instance.pad,\n",
    "                       [paddable_instance.name, paddable_instance.form, paddable_instance.unit],\n",
    "                       *[[]] * paddable_instance.pad]\n",
    "        elif getattr(paddable_instance, \"pad_after\", None):\n",
    "            result += [[paddable_instance.name, paddable_instance.form, paddable_instance.unit],\n",
    "                       *[[]] * paddable_instance.pad_after]\n",
    "        return result\n",
    "\n",
    "\n",
    "@dataclass\n",
    "class NameFormUnit:\n",
    "    name: str\n",
    "    form: str\n",
    "    unit: Union[str, int] = \"EUR\"\n",
    "    row: Optional[int] = None\n",
    "\n",
    "    def to_excel_format(self) -> List[str]:\n",
    "        return [self.name, self.form, self.unit]\n",
    "\n",
    "\n",
    "@dataclass\n",
    "class TotalHrs(NameFormUnit, Paddable):\n",
    "    name: str = TOT_CELL_VALUE\n",
    "    form: str = \"=SUM(B2:B{})\"\n",
    "    unit: str = \"Hours\"\n",
    "    pad: int = 1\n",
    "\n",
    "\n",
    "@dataclass\n",
    "class TotalSalaryPerHrsOnly(NameFormUnit):\n",
    "    name: str = \"Amount / working hours\"\n",
    "    form: str = \"={}*SUM(B2:B{})\"\n",
    "\n",
    "\n",
    "@dataclass\n",
    "class Other(NameFormUnit): pass\n",
    "\n",
    "\n",
    "@dataclass\n",
    "class TotalToBePaid(NameFormUnit, Paddable):\n",
    "    name: str = \"TOT. to be paid\"\n",
    "    form: str = \"=SUM(B{}:B{})\"\n",
    "    pad: int = 1\n",
    "\n",
    "\n",
    "@dataclass\n",
    "class Notice(NameFormUnit): pass\n",
    "\n",
    "\n",
    "@dataclass\n",
    "class Invoice:\n",
    "    column = [\"Workdays only\", \"Hours / day\"]\n",
    "    workdays_worked: List[WorkdayWorkedHrs]\n",
    "    total_hrs: TotalHrs\n",
    "    tot_salary_hrs_only: TotalSalaryPerHrsOnly\n",
    "    others: List[Other]\n",
    "    tot_tobe_paid: TotalToBePaid\n",
    "\n",
    "    notices: List[Notice]\n",
    "\n",
    "    def to_list(self) -> list:\n",
    "        result = [self.column]\n",
    "        result.extend(list(map(WorkdayWorkedHrs.to_excel_format, self.workdays_worked)))\n",
    "        result.extend(self.total_hrs.pad_values_if_possible(self.total_hrs))\n",
    "        result.extend([self.tot_salary_hrs_only.to_excel_format()])\n",
    "        result += list(map(NameFormUnit.to_excel_format, self.others))\n",
    "        result.extend(self.tot_tobe_paid.pad_values_if_possible(self.tot_tobe_paid))\n",
    "        result.extend(map(NameFormUnit.to_excel_format, self.notices))\n",
    "        return result\n",
    "\n",
    "    def format_spreadsheet(self, sh: gspread.Spreadsheet.worksheet):\n",
    "        # TODO: rewrite formatting so it becomes more dynamic and elegant\n",
    "        sh.format(\"A1:D1\", {\n",
    "            \"horizontalAlignment\": \"CENTER\",\n",
    "            \"textFormat\": {\n",
    "                \"fontSize\": 12,\n",
    "                \"bold\": True\n",
    "            }\n",
    "        })\n",
    "\n",
    "        row = self.workdays_worked[0].row + 2\n",
    "        sh.format(\"A{}:D{}\".format(row, row), {\n",
    "            \"backgroundColor\": {\n",
    "                \"red\": 56 / 255,\n",
    "                \"green\": 163 / 255,\n",
    "                \"blue\": 168 / 255\n",
    "            },\n",
    "            \"horizontalAlignment\": \"CENTER\",\n",
    "            \"textFormat\": {\n",
    "                \"fontSize\": 12,\n",
    "                \"bold\": True\n",
    "            }\n",
    "        })\n",
    "\n",
    "        row = self.tot_salary_hrs_only.row + len(self.others) if self.others else self.tot_salary_hrs_only.row\n",
    "        sh.format(\"A{}:D{}\".format(self.tot_salary_hrs_only.row, row), {\n",
    "            \"backgroundColor\": {\n",
    "                \"red\": 156 / 255,\n",
    "                \"green\": 214 / 255,\n",
    "                \"blue\": 48 / 255\n",
    "            }})\n",
    "\n",
    "        row += 1\n",
    "        sh.format(\"A{}:D{}\".format(row, row), {\n",
    "            \"backgroundColor\": {\n",
    "                \"red\": 0 / 255,\n",
    "                \"green\": 0 / 255,\n",
    "                \"blue\": 0 / 255\n",
    "            }})\n",
    "\n",
    "        row += 1\n",
    "        sh.format(\"A{}:D{}\".format(row, row), {\n",
    "            \"backgroundColor\": {\n",
    "                \"red\": 51 / 255,\n",
    "                \"green\": 165 / 255,\n",
    "                \"blue\": 59 / 255\n",
    "            },\n",
    "            \"textFormat\": {\n",
    "                \"fontSize\": 12,\n",
    "                \"bold\": True\n",
    "            }\n",
    "        })\n"
   ]
  },
  {
   "cell_type": "code",
   "execution_count": 112,
   "metadata": {
    "pycharm": {
     "name": "#%%\n"
    }
   },
   "outputs": [
    {
     "name": "stdout",
     "output_type": "stream",
     "text": [
      "21 5 [10.0, 10.0, 10.0, 10.0, 10.0, 10.0, 10.0, 10.0, 10.0, 10.0, 10.0, 10.0, 10.0, 10.0, 10.0, 10.0, 10.0, 8.0, 8.0, 8.0, 8.0] 202.0 202.0\n"
     ]
    }
   ],
   "source": [
    "# Build the invoice from scratch\n",
    "\n",
    "def get_date_for_current_invoice(invoice_filename_by_convention: str) -> date:\n",
    "    \"\"\" return: first day of current year's following month to last invoice \"\"\"\n",
    "    return date(datetime.now().year, int(invoice_filename_by_convention[-1]), 1) + relativedelta(months=1)\n",
    "\n",
    "\n",
    "# Workdays with working hrs.\n",
    "\n",
    "# Get list of all days\n",
    "invoice_date = get_date_for_current_invoice(prev_invoice_filename)\n",
    "all_days = (invoice_date + timedelta(x) for x in range(((invoice_date + relativedelta(months=1)) - invoice_date).days))\n",
    "workdays = list(filter(lambda d: d.weekday() + 1 <= NUMBER_OF_WORKING_DAYS_PER_WEEK, all_days))\n",
    "\n",
    "work_in_plus_per_week: List[float] = list(map(float, excess_work_input.split(\"\\t\")))\n",
    "\n",
    "TOT_WORK_IN_PLUS = sum(work_in_plus_per_week)\n",
    "# if TOT_WORK_IN_PLUS:\n",
    "\n",
    "# work_in_plus_per_workdays_ = [8] * len(workdays)\n",
    "working_hrs_with_excess_or_loss_per_day: List[float] = [8.0] * len(workdays)\n",
    "working_hrs_with_excess_or_loss_per_day = spread_excess_work_hrs(working_hrs_with_excess_or_loss_per_day,\n",
    "                                                                 work_in_plus_per_week, SPREAD_MODE)\n",
    "if len(workdays) * 8 + TOT_WORK_IN_PLUS != sum(\n",
    "        working_hrs_with_excess_or_loss_per_day):  # it means `MAX_NUMBER_OF_EXCESS_WORKING_HOURS_PER_DAY` is not enough\n",
    "    raise SystemError(\"Leaking working hour calculation in the system, please look out!\")\n",
    "\n",
    "ww = [WorkdayWorkedHrs(d, worked_hrs_with_excess) for d, worked_hrs_with_excess in\n",
    "      zip(workdays, working_hrs_with_excess_or_loss_per_day)]\n",
    "ww_row = len(ww) + 1\n",
    "\n",
    "print(len(workdays), len(work_in_plus_per_week), working_hrs_with_excess_or_loss_per_day,\n",
    "      len(workdays) * 8 + TOT_WORK_IN_PLUS, sum(working_hrs_with_excess_or_loss_per_day))"
   ]
  },
  {
   "cell_type": "code",
   "execution_count": 222,
   "outputs": [
    {
     "name": "stdout",
     "output_type": "stream",
     "text": [
      "list of: 202.0, total hrs: 168; TOT: 34.0\n"
     ]
    }
   ],
   "source": [
    "\n",
    "# Tot.Hrs.\n",
    "tot_hrs = TotalHrs()\n",
    "tot_hrs.form = tot_hrs.form.format(ww_row)\n",
    "\n",
    "# Tot.Salary/Hrs.Only\n",
    "tot_salary_hrs_only = TotalSalaryPerHrsOnly()\n",
    "tot_salary_hrs_only.form = tot_salary_hrs_only.form.format(SALARY_PER_HOUR, ww_row)\n",
    "tot_salary_hrs_only.row = ww_row + 4\n",
    "\n",
    "# Others [if are]\n",
    "\n",
    "others = list(map(lambda x: Other(*x), other_items))\n",
    "\n",
    "# Tot.ToBePaid\n",
    "tot_tobe_paid = TotalToBePaid()\n",
    "tot_tobe_paid.row = ww_row + 4 + len(others)\n",
    "tot_tobe_paid.form = tot_tobe_paid.form.format(tot_salary_hrs_only.row, tot_tobe_paid.row)\n",
    "\n",
    "# All notices here\n",
    "worked_hrs_in_excess = sum(map(lambda x: x.hrs_worked, ww)) - len(workdays) * 8\n",
    "additional_notices = [\n",
    "    (YEARLY_PAID_WORKING_HRS_ONLY_CELL_VALUE,\n",
    "     f\"=B{tot_salary_hrs_only.row} + {GET_SUM_ACCUMULATED_BY_WORKINGHRS_ONLY(prev_sheet)}\",\n",
    "     \"EUR\"),\n",
    "    (MONTHLY_ACCUMULATED_HRS_CELL_VALUE,\n",
    "     # You could use GSheet formula too\n",
    "     # f\"\"\"=IF(Sum(B2:B{ww_row}) > 8*NETWORKDAYS(A2,EOMONTH(A2,0),E3:E15), Sum(B2:B{ww_row})-8*NETWORKDAYS(A2,EOMONTH(A2,0),E3:E15), \"No accumulated hrs in plus this month\")\"\"\",\n",
    "     worked_hrs_in_excess if worked_hrs_in_excess else \"No accumulated hrs in plus this month\",\n",
    "     \"\")]\n",
    "\n",
    "notices = list(map(lambda x: Notice(*x), additional_notices))\n",
    "\n",
    "# Finally, our invoice\n",
    "invoice = Invoice(ww, tot_hrs, tot_salary_hrs_only, others, tot_tobe_paid, notices)\n"
   ],
   "metadata": {
    "collapsed": false,
    "pycharm": {
     "name": "#%%\n"
    }
   }
  },
  {
   "cell_type": "code",
   "execution_count": 223,
   "metadata": {
    "pycharm": {
     "name": "#%%\n"
    }
   },
   "outputs": [
    {
     "name": "stdout",
     "output_type": "stream",
     "text": [
      "first row: 24\n",
      "first row: 24\n",
      "Everything is DONE!\n"
     ]
    }
   ],
   "source": [
    "# Say no more, ready to create the new invoice calulcator\n",
    "# Extract\n",
    "def extract_invoice_id_from(invoice_filename: str, invoice_id_prefix) -> str:\n",
    "    return re.findall(rf\"(?<=_{invoice_id_prefix})\\d+(?=_)\", invoice_filename)[0]\n",
    "\n",
    "\n",
    "def increment_invoice_id(invoice_id: str) -> str:\n",
    "    return str(int(invoice_id) + 1).zfill(len(invoice_id))\n",
    "\n",
    "\n",
    "invoice_filename = GET_INVOICE_FILENAME_TEMPLATE(\n",
    "    increment_invoice_id(extract_invoice_id_from(prev_invoice_filename, INVOICE_ID_PREFIX)),\n",
    "    invoice_date.year, invoice_date.month)\n",
    "\n",
    "sh = gc.create(invoice_filename, \"1xyTWWbq6CiwTmNChx6UF3gMQax4talU2\")\n",
    "\n",
    "print(\"Previous file's permissions: \", gc.list_permissions(prev_file.id))\n",
    "gc.insert_permission(\n",
    "    sh.id,\n",
    "    'portikHun@gmail.com', perm_type='user', role='writer'\n",
    ")\n",
    "\n",
    "list_values = invoice.to_list()\n",
    "try:\n",
    "    invoice.format_spreadsheet(sh.sheet1)\n",
    "    sh.sheet1.update('A1:E{}'.format(len(list_values)), list_values, raw=False)\n",
    "    invoice.format_spreadsheet(sh.sheet1)\n",
    "except Exception as e:\n",
    "    print(traceback.format_exc(), file=sys.stderr)\n",
    "    print(\"Error found, deleting the newly created GSheet!\")\n",
    "    gc.del_spreadsheet(sh.id)\n",
    "\n",
    "print(\"Everything is DONE!\")"
   ]
  },
  {
   "cell_type": "code",
   "execution_count": 1,
   "metadata": {
    "pycharm": {
     "name": "#%%\n"
    }
   },
   "outputs": [],
   "source": [
    "# TODO: supervise if it's necessary to be used\n",
    "def daterange(start_date, end_date):\n",
    "    for n in range(int((end_date - start_date).days)):\n",
    "        yield start_date + timedelta(n)"
   ]
  }
 ],
 "metadata": {
  "kernelspec": {
   "display_name": "Python 3 (ipykernel)",
   "language": "python",
   "name": "python3"
  },
  "language_info": {
   "codemirror_mode": {
    "name": "ipython",
    "version": 3
   },
   "file_extension": ".py",
   "mimetype": "text/x-python",
   "name": "python",
   "nbconvert_exporter": "python",
   "pygments_lexer": "ipython3",
   "version": "3.8.10"
  }
 },
 "nbformat": 4,
 "nbformat_minor": 5
}